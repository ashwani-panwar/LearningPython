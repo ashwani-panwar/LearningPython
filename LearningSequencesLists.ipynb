{
 "cells": [
  {
   "cell_type": "code",
   "execution_count": 1,
   "id": "450c0eb2",
   "metadata": {},
   "outputs": [],
   "source": [
    "import math \n",
    "import collections\n",
    "\n",
    "import numpy as np \n",
    "import pandas as pd \n",
    "import matplotlib.pyplot as pp\n",
    "\n",
    "%matplotlib inline"
   ]
  },
  {
   "cell_type": "code",
   "execution_count": 2,
   "id": "2562f79d",
   "metadata": {},
   "outputs": [],
   "source": [
    "nephews = [\"Ashwani\", \"Ritvik\", \"Chakdum\"]"
   ]
  },
  {
   "cell_type": "code",
   "execution_count": 3,
   "id": "44e5a3d4",
   "metadata": {},
   "outputs": [
    {
     "data": {
      "text/plain": [
       "['Ashwani', 'Ritvik', 'Chakdum']"
      ]
     },
     "execution_count": 3,
     "metadata": {},
     "output_type": "execute_result"
    }
   ],
   "source": [
    "nephews"
   ]
  },
  {
   "cell_type": "code",
   "execution_count": 4,
   "id": "55f6caa8",
   "metadata": {},
   "outputs": [
    {
     "data": {
      "text/plain": [
       "'Ritvik'"
      ]
     },
     "execution_count": 4,
     "metadata": {},
     "output_type": "execute_result"
    }
   ],
   "source": [
    "nephews[1]"
   ]
  },
  {
   "cell_type": "code",
   "execution_count": 5,
   "id": "6704f91a",
   "metadata": {},
   "outputs": [
    {
     "data": {
      "text/plain": [
       "3"
      ]
     },
     "execution_count": 5,
     "metadata": {},
     "output_type": "execute_result"
    }
   ],
   "source": [
    "len(nephews)"
   ]
  },
  {
   "cell_type": "code",
   "execution_count": 7,
   "id": "a6ad4dc2",
   "metadata": {},
   "outputs": [
    {
     "data": {
      "text/plain": [
       "'Chakdum'"
      ]
     },
     "execution_count": 7,
     "metadata": {},
     "output_type": "execute_result"
    }
   ],
   "source": [
    "nephews[-1]"
   ]
  },
  {
   "cell_type": "code",
   "execution_count": 10,
   "id": "2ed6d093",
   "metadata": {},
   "outputs": [],
   "source": [
    "for i in range(3):\n",
    "    nephews[i]=nephews[i]+' Oberai'"
   ]
  },
  {
   "cell_type": "code",
   "execution_count": 11,
   "id": "e6643140",
   "metadata": {},
   "outputs": [
    {
     "data": {
      "text/plain": [
       "['AshwaniOberai Oberai', 'RitvikOberai Oberai', 'ChakdumOberai Oberai']"
      ]
     },
     "execution_count": 11,
     "metadata": {},
     "output_type": "execute_result"
    }
   ],
   "source": [
    "nephews"
   ]
  },
  {
   "cell_type": "code",
   "execution_count": 12,
   "id": "57b97ae5",
   "metadata": {},
   "outputs": [],
   "source": [
    "mix = [1,[1,3],'pitbull']"
   ]
  },
  {
   "cell_type": "code",
   "execution_count": 13,
   "id": "c2aa74a7",
   "metadata": {},
   "outputs": [
    {
     "data": {
      "text/plain": [
       "[1, [1, 3], 'pitbull']"
      ]
     },
     "execution_count": 13,
     "metadata": {},
     "output_type": "execute_result"
    }
   ],
   "source": [
    "mix"
   ]
  },
  {
   "cell_type": "code",
   "execution_count": 14,
   "id": "76dafd5f",
   "metadata": {},
   "outputs": [],
   "source": [
    "nephews.append('Ritamk Oberai')"
   ]
  },
  {
   "cell_type": "code",
   "execution_count": 15,
   "id": "be39c587",
   "metadata": {},
   "outputs": [
    {
     "data": {
      "text/plain": [
       "['AshwaniOberai Oberai',\n",
       " 'RitvikOberai Oberai',\n",
       " 'ChakdumOberai Oberai',\n",
       " 'Ritamk Oberai']"
      ]
     },
     "execution_count": 15,
     "metadata": {},
     "output_type": "execute_result"
    }
   ],
   "source": [
    "nephews"
   ]
  },
  {
   "cell_type": "code",
   "execution_count": 16,
   "id": "a620f21b",
   "metadata": {},
   "outputs": [],
   "source": [
    "nephews.extend(['radhe oberai', 'krishna oberai'])"
   ]
  },
  {
   "cell_type": "code",
   "execution_count": 17,
   "id": "2bb14be0",
   "metadata": {},
   "outputs": [
    {
     "data": {
      "text/plain": [
       "['AshwaniOberai Oberai',\n",
       " 'RitvikOberai Oberai',\n",
       " 'ChakdumOberai Oberai',\n",
       " 'Ritamk Oberai',\n",
       " 'radhe oberai',\n",
       " 'krishna oberai']"
      ]
     },
     "execution_count": 17,
     "metadata": {},
     "output_type": "execute_result"
    }
   ],
   "source": [
    "nephews"
   ]
  },
  {
   "cell_type": "code",
   "execution_count": 18,
   "id": "47d426f1",
   "metadata": {},
   "outputs": [],
   "source": [
    "ducks = nephews + ['Shiv Bholey', 'Shani Shignapur']"
   ]
  },
  {
   "cell_type": "code",
   "execution_count": 19,
   "id": "f24864e0",
   "metadata": {},
   "outputs": [
    {
     "data": {
      "text/plain": [
       "['AshwaniOberai Oberai',\n",
       " 'RitvikOberai Oberai',\n",
       " 'ChakdumOberai Oberai',\n",
       " 'Ritamk Oberai',\n",
       " 'radhe oberai',\n",
       " 'krishna oberai',\n",
       " 'Shiv Bholey',\n",
       " 'Shani Shignapur']"
      ]
     },
     "execution_count": 19,
     "metadata": {},
     "output_type": "execute_result"
    }
   ],
   "source": [
    "ducks"
   ]
  },
  {
   "cell_type": "code",
   "execution_count": 20,
   "id": "2e2ff312",
   "metadata": {},
   "outputs": [],
   "source": [
    "ducks.insert(0,'Brahma Mahesh')"
   ]
  },
  {
   "cell_type": "code",
   "execution_count": 21,
   "id": "0d190d53",
   "metadata": {},
   "outputs": [
    {
     "data": {
      "text/plain": [
       "['Brahma Mahesh',\n",
       " 'AshwaniOberai Oberai',\n",
       " 'RitvikOberai Oberai',\n",
       " 'ChakdumOberai Oberai',\n",
       " 'Ritamk Oberai',\n",
       " 'radhe oberai',\n",
       " 'krishna oberai',\n",
       " 'Shiv Bholey',\n",
       " 'Shani Shignapur']"
      ]
     },
     "execution_count": 21,
     "metadata": {},
     "output_type": "execute_result"
    }
   ],
   "source": [
    "ducks"
   ]
  },
  {
   "cell_type": "code",
   "execution_count": 22,
   "id": "f4113dcf",
   "metadata": {},
   "outputs": [],
   "source": [
    "del ducks[4]"
   ]
  },
  {
   "cell_type": "code",
   "execution_count": 23,
   "id": "489c34a0",
   "metadata": {},
   "outputs": [
    {
     "data": {
      "text/plain": [
       "['Brahma Mahesh',\n",
       " 'AshwaniOberai Oberai',\n",
       " 'RitvikOberai Oberai',\n",
       " 'ChakdumOberai Oberai',\n",
       " 'radhe oberai',\n",
       " 'krishna oberai',\n",
       " 'Shiv Bholey',\n",
       " 'Shani Shignapur']"
      ]
     },
     "execution_count": 23,
     "metadata": {},
     "output_type": "execute_result"
    }
   ],
   "source": [
    "ducks"
   ]
  },
  {
   "cell_type": "code",
   "execution_count": 24,
   "id": "daffbe7e",
   "metadata": {},
   "outputs": [],
   "source": [
    "ducks.remove('ChakdumOberai Oberai')"
   ]
  },
  {
   "cell_type": "code",
   "execution_count": 25,
   "id": "b7789bc0",
   "metadata": {},
   "outputs": [
    {
     "data": {
      "text/plain": [
       "['Brahma Mahesh',\n",
       " 'AshwaniOberai Oberai',\n",
       " 'RitvikOberai Oberai',\n",
       " 'radhe oberai',\n",
       " 'krishna oberai',\n",
       " 'Shiv Bholey',\n",
       " 'Shani Shignapur']"
      ]
     },
     "execution_count": 25,
     "metadata": {},
     "output_type": "execute_result"
    }
   ],
   "source": [
    "ducks"
   ]
  },
  {
   "cell_type": "code",
   "execution_count": 26,
   "id": "883b613d",
   "metadata": {},
   "outputs": [],
   "source": [
    "ducks.sort()"
   ]
  },
  {
   "cell_type": "code",
   "execution_count": 27,
   "id": "046772c9",
   "metadata": {},
   "outputs": [
    {
     "data": {
      "text/plain": [
       "['AshwaniOberai Oberai',\n",
       " 'Brahma Mahesh',\n",
       " 'RitvikOberai Oberai',\n",
       " 'Shani Shignapur',\n",
       " 'Shiv Bholey',\n",
       " 'krishna oberai',\n",
       " 'radhe oberai']"
      ]
     },
     "execution_count": 27,
     "metadata": {},
     "output_type": "execute_result"
    }
   ],
   "source": [
    "ducks"
   ]
  },
  {
   "cell_type": "code",
   "execution_count": 28,
   "id": "f739d610",
   "metadata": {},
   "outputs": [],
   "source": [
    "reverse_ducks = sorted(ducks, reverse=True)"
   ]
  },
  {
   "cell_type": "code",
   "execution_count": 29,
   "id": "5ad555f7",
   "metadata": {},
   "outputs": [
    {
     "data": {
      "text/plain": [
       "['radhe oberai',\n",
       " 'krishna oberai',\n",
       " 'Shiv Bholey',\n",
       " 'Shani Shignapur',\n",
       " 'RitvikOberai Oberai',\n",
       " 'Brahma Mahesh',\n",
       " 'AshwaniOberai Oberai']"
      ]
     },
     "execution_count": 29,
     "metadata": {},
     "output_type": "execute_result"
    }
   ],
   "source": [
    "reverse_ducks"
   ]
  },
  {
   "cell_type": "code",
   "execution_count": 30,
   "id": "d62f06d7",
   "metadata": {},
   "outputs": [],
   "source": [
    "squares = [1,4,9,16,25,36,49]"
   ]
  },
  {
   "cell_type": "code",
   "execution_count": 31,
   "id": "8a5faf26",
   "metadata": {},
   "outputs": [
    {
     "data": {
      "text/plain": [
       "[1, 4]"
      ]
     },
     "execution_count": 31,
     "metadata": {},
     "output_type": "execute_result"
    }
   ],
   "source": [
    "squares[0:2]"
   ]
  },
  {
   "cell_type": "code",
   "execution_count": 32,
   "id": "84531101",
   "metadata": {},
   "outputs": [
    {
     "data": {
      "text/plain": [
       "[1, 4, 9]"
      ]
     },
     "execution_count": 32,
     "metadata": {},
     "output_type": "execute_result"
    }
   ],
   "source": [
    "squares[:3]"
   ]
  },
  {
   "cell_type": "code",
   "execution_count": 33,
   "id": "ebf5e39a",
   "metadata": {},
   "outputs": [
    {
     "data": {
      "text/plain": [
       "[9, 16, 25, 36, 49]"
      ]
     },
     "execution_count": 33,
     "metadata": {},
     "output_type": "execute_result"
    }
   ],
   "source": [
    "squares[2:]"
   ]
  },
  {
   "cell_type": "code",
   "execution_count": 35,
   "id": "e8beadef",
   "metadata": {},
   "outputs": [
    {
     "data": {
      "text/plain": [
       "[1, 9, 25, 49]"
      ]
     },
     "execution_count": 35,
     "metadata": {},
     "output_type": "execute_result"
    }
   ],
   "source": [
    "squares[0:7:2]"
   ]
  },
  {
   "cell_type": "code",
   "execution_count": 36,
   "id": "7e96d6df",
   "metadata": {},
   "outputs": [
    {
     "data": {
      "text/plain": [
       "[25, 36]"
      ]
     },
     "execution_count": 36,
     "metadata": {},
     "output_type": "execute_result"
    }
   ],
   "source": [
    "squares[-3:-1]"
   ]
  },
  {
   "cell_type": "code",
   "execution_count": 37,
   "id": "4ad01a82",
   "metadata": {},
   "outputs": [],
   "source": [
    "squares[2:4] = ['four', 'nine']"
   ]
  },
  {
   "cell_type": "code",
   "execution_count": 38,
   "id": "ab1eddfa",
   "metadata": {},
   "outputs": [
    {
     "data": {
      "text/plain": [
       "[1, 4, 'four', 'nine', 25, 36, 49]"
      ]
     },
     "execution_count": 38,
     "metadata": {},
     "output_type": "execute_result"
    }
   ],
   "source": [
    "squares"
   ]
  },
  {
   "cell_type": "code",
   "execution_count": 39,
   "id": "10b03c80",
   "metadata": {},
   "outputs": [],
   "source": [
    "del squares[4:6]"
   ]
  },
  {
   "cell_type": "code",
   "execution_count": 40,
   "id": "14e6e794",
   "metadata": {},
   "outputs": [
    {
     "data": {
      "text/plain": [
       "[1, 4, 'four', 'nine', 49]"
      ]
     },
     "execution_count": 40,
     "metadata": {},
     "output_type": "execute_result"
    }
   ],
   "source": [
    "squares"
   ]
  },
  {
   "cell_type": "markdown",
   "id": "3ac8ee47",
   "metadata": {},
   "source": [
    "Tuples"
   ]
  },
  {
   "cell_type": "code",
   "execution_count": 41,
   "id": "5b79b8e2",
   "metadata": {},
   "outputs": [],
   "source": [
    "integers = ('one', 'two', 'three', 'four')"
   ]
  },
  {
   "cell_type": "code",
   "execution_count": 42,
   "id": "17f2a82b",
   "metadata": {},
   "outputs": [
    {
     "data": {
      "text/plain": [
       "('one', 'two', 'three', 'four')"
      ]
     },
     "execution_count": 42,
     "metadata": {},
     "output_type": "execute_result"
    }
   ],
   "source": [
    "integers"
   ]
  },
  {
   "cell_type": "code",
   "execution_count": 43,
   "id": "41a7026f",
   "metadata": {},
   "outputs": [
    {
     "data": {
      "text/plain": [
       "('four', ('two', 'three'))"
      ]
     },
     "execution_count": 43,
     "metadata": {},
     "output_type": "execute_result"
    }
   ],
   "source": [
    "integers[-1], integers[1:3]"
   ]
  },
  {
   "cell_type": "code",
   "execution_count": 44,
   "id": "96ca6ee5",
   "metadata": {},
   "outputs": [],
   "source": [
    "(a, b) = (1, 2)"
   ]
  },
  {
   "cell_type": "code",
   "execution_count": 45,
   "id": "91fa8764",
   "metadata": {},
   "outputs": [
    {
     "name": "stdout",
     "output_type": "stream",
     "text": [
      "0 AshwaniOberai Oberai\n",
      "1 Brahma Mahesh\n",
      "2 RitvikOberai Oberai\n",
      "3 Shani Shignapur\n",
      "4 Shiv Bholey\n",
      "5 krishna oberai\n",
      "6 radhe oberai\n"
     ]
    }
   ],
   "source": [
    "for i, duck in enumerate(ducks):\n",
    "    print(i, duck)"
   ]
  },
  {
   "cell_type": "code",
   "execution_count": 46,
   "id": "9f667ff3",
   "metadata": {},
   "outputs": [],
   "source": [
    "def three_args(a, b, c):\n",
    "    print(a, b, c)"
   ]
  },
  {
   "cell_type": "code",
   "execution_count": 47,
   "id": "57372a82",
   "metadata": {},
   "outputs": [],
   "source": [
    "my_args = (1,2,3)"
   ]
  },
  {
   "cell_type": "code",
   "execution_count": 48,
   "id": "640cca39",
   "metadata": {},
   "outputs": [
    {
     "name": "stdout",
     "output_type": "stream",
     "text": [
      "1 2 3\n"
     ]
    }
   ],
   "source": [
    "three_args(*my_args)"
   ]
  },
  {
   "cell_type": "code",
   "execution_count": null,
   "id": "57a00dd1",
   "metadata": {},
   "outputs": [],
   "source": []
  }
 ],
 "metadata": {
  "kernelspec": {
   "display_name": "Python 3",
   "language": "python",
   "name": "python3"
  },
  "language_info": {
   "codemirror_mode": {
    "name": "ipython",
    "version": 3
   },
   "file_extension": ".py",
   "mimetype": "text/x-python",
   "name": "python",
   "nbconvert_exporter": "python",
   "pygments_lexer": "ipython3",
   "version": "3.8.8"
  }
 },
 "nbformat": 4,
 "nbformat_minor": 5
}
