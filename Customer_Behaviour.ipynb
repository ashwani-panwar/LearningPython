{
 "cells": [
  {
   "cell_type": "code",
   "execution_count": 1,
   "id": "fd2e2236",
   "metadata": {},
   "outputs": [],
   "source": [
    "import pandas as pd"
   ]
  },
  {
   "cell_type": "code",
   "execution_count": 2,
   "id": "e7ffff0b",
   "metadata": {},
   "outputs": [
    {
     "name": "stdout",
     "output_type": "stream",
     "text": [
      "/Users/ashwani.panwar/Desktop/Learning/CI/Exercise Files/data\n"
     ]
    }
   ],
   "source": [
    "cd data"
   ]
  },
  {
   "cell_type": "code",
   "execution_count": 3,
   "id": "9cbad3a0",
   "metadata": {},
   "outputs": [
    {
     "name": "stdout",
     "output_type": "stream",
     "text": [
      "\u001b[31mci-data.csv\u001b[m\u001b[m*\r\n"
     ]
    }
   ],
   "source": [
    "ls"
   ]
  },
  {
   "cell_type": "code",
   "execution_count": 4,
   "id": "1b7f81d3",
   "metadata": {},
   "outputs": [],
   "source": [
    "data_to_access = pd.read_csv('ci-data.csv')"
   ]
  },
  {
   "cell_type": "code",
   "execution_count": 5,
   "id": "d1030374",
   "metadata": {},
   "outputs": [
    {
     "data": {
      "text/html": [
       "<div>\n",
       "<style scoped>\n",
       "    .dataframe tbody tr th:only-of-type {\n",
       "        vertical-align: middle;\n",
       "    }\n",
       "\n",
       "    .dataframe tbody tr th {\n",
       "        vertical-align: top;\n",
       "    }\n",
       "\n",
       "    .dataframe thead th {\n",
       "        text-align: right;\n",
       "    }\n",
       "</style>\n",
       "<table border=\"1\" class=\"dataframe\">\n",
       "  <thead>\n",
       "    <tr style=\"text-align: right;\">\n",
       "      <th></th>\n",
       "      <th>id</th>\n",
       "      <th>purchase_counts</th>\n",
       "      <th>purchase_sum</th>\n",
       "      <th>attribution_score</th>\n",
       "      <th>website_visits</th>\n",
       "      <th>website_behavior_classification</th>\n",
       "      <th>experience</th>\n",
       "      <th>active</th>\n",
       "      <th>characteristic_one</th>\n",
       "      <th>characteristic_two</th>\n",
       "      <th>characteristic_three</th>\n",
       "      <th>customer_journey_progress_program</th>\n",
       "      <th>remarks</th>\n",
       "    </tr>\n",
       "  </thead>\n",
       "  <tbody>\n",
       "    <tr>\n",
       "      <th>0</th>\n",
       "      <td>5ca74cdcfc13ae60bd000097</td>\n",
       "      <td>5</td>\n",
       "      <td>44810.57</td>\n",
       "      <td>4</td>\n",
       "      <td>14</td>\n",
       "      <td>5</td>\n",
       "      <td>0.00</td>\n",
       "      <td>2.05</td>\n",
       "      <td>1</td>\n",
       "      <td>25</td>\n",
       "      <td>3</td>\n",
       "      <td>2</td>\n",
       "      <td>In hac habitasse platea dictumst. Etiam faucib...</td>\n",
       "    </tr>\n",
       "    <tr>\n",
       "      <th>1</th>\n",
       "      <td>5ca74cddfc13ae60bd0000f5</td>\n",
       "      <td>5</td>\n",
       "      <td>30612.91</td>\n",
       "      <td>9</td>\n",
       "      <td>7</td>\n",
       "      <td>9</td>\n",
       "      <td>0.00</td>\n",
       "      <td>4.94</td>\n",
       "      <td>2</td>\n",
       "      <td>25</td>\n",
       "      <td>3</td>\n",
       "      <td>1</td>\n",
       "      <td>Praesent blandit. Nam nulla. Integer pede just...</td>\n",
       "    </tr>\n",
       "    <tr>\n",
       "      <th>2</th>\n",
       "      <td>5ca74cddfc13ae60bd00010a</td>\n",
       "      <td>7</td>\n",
       "      <td>35655.59</td>\n",
       "      <td>3</td>\n",
       "      <td>26</td>\n",
       "      <td>5</td>\n",
       "      <td>0.00</td>\n",
       "      <td>3.61</td>\n",
       "      <td>1</td>\n",
       "      <td>26</td>\n",
       "      <td>1</td>\n",
       "      <td>1</td>\n",
       "      <td>Praesent id massa id nisl venenatis lacinia. A...</td>\n",
       "    </tr>\n",
       "    <tr>\n",
       "      <th>3</th>\n",
       "      <td>5ca74cdcfc13ae60bd000073</td>\n",
       "      <td>7</td>\n",
       "      <td>30139.24</td>\n",
       "      <td>7</td>\n",
       "      <td>9</td>\n",
       "      <td>4</td>\n",
       "      <td>0.01</td>\n",
       "      <td>4.44</td>\n",
       "      <td>2</td>\n",
       "      <td>26</td>\n",
       "      <td>3</td>\n",
       "      <td>1</td>\n",
       "      <td>In hac habitasse platea dictumst. Morbi vestib...</td>\n",
       "    </tr>\n",
       "    <tr>\n",
       "      <th>4</th>\n",
       "      <td>5ca74cdcfc13ae60bd000040</td>\n",
       "      <td>4</td>\n",
       "      <td>4501.13</td>\n",
       "      <td>3</td>\n",
       "      <td>10</td>\n",
       "      <td>1</td>\n",
       "      <td>0.02</td>\n",
       "      <td>4.51</td>\n",
       "      <td>1</td>\n",
       "      <td>25</td>\n",
       "      <td>3</td>\n",
       "      <td>1</td>\n",
       "      <td>Pellentesque at nulla. Suspendisse potenti. Cr...</td>\n",
       "    </tr>\n",
       "    <tr>\n",
       "      <th>...</th>\n",
       "      <td>...</td>\n",
       "      <td>...</td>\n",
       "      <td>...</td>\n",
       "      <td>...</td>\n",
       "      <td>...</td>\n",
       "      <td>...</td>\n",
       "      <td>...</td>\n",
       "      <td>...</td>\n",
       "      <td>...</td>\n",
       "      <td>...</td>\n",
       "      <td>...</td>\n",
       "      <td>...</td>\n",
       "      <td>...</td>\n",
       "    </tr>\n",
       "    <tr>\n",
       "      <th>395</th>\n",
       "      <td>5ca74cdcfc13ae60bd000013</td>\n",
       "      <td>4</td>\n",
       "      <td>1426.58</td>\n",
       "      <td>9</td>\n",
       "      <td>3</td>\n",
       "      <td>5</td>\n",
       "      <td>0.99</td>\n",
       "      <td>4.99</td>\n",
       "      <td>2</td>\n",
       "      <td>25</td>\n",
       "      <td>2</td>\n",
       "      <td>7</td>\n",
       "      <td>In hac habitasse platea dictumst. Etiam faucib...</td>\n",
       "    </tr>\n",
       "    <tr>\n",
       "      <th>396</th>\n",
       "      <td>5ca74cddfc13ae60bd0000e3</td>\n",
       "      <td>7</td>\n",
       "      <td>13374.10</td>\n",
       "      <td>1</td>\n",
       "      <td>28</td>\n",
       "      <td>4</td>\n",
       "      <td>0.99</td>\n",
       "      <td>2.38</td>\n",
       "      <td>1</td>\n",
       "      <td>25</td>\n",
       "      <td>6</td>\n",
       "      <td>10</td>\n",
       "      <td>Duis consequat dui nec nisi volutpat eleifend....</td>\n",
       "    </tr>\n",
       "    <tr>\n",
       "      <th>397</th>\n",
       "      <td>5ca74cddfc13ae60bd000117</td>\n",
       "      <td>1</td>\n",
       "      <td>23515.38</td>\n",
       "      <td>11</td>\n",
       "      <td>7</td>\n",
       "      <td>4</td>\n",
       "      <td>0.99</td>\n",
       "      <td>1.48</td>\n",
       "      <td>1</td>\n",
       "      <td>25</td>\n",
       "      <td>3</td>\n",
       "      <td>10</td>\n",
       "      <td>Nulla ut erat id mauris vulputate elementum. N...</td>\n",
       "    </tr>\n",
       "    <tr>\n",
       "      <th>398</th>\n",
       "      <td>5ca74cdcfc13ae60bd0000ad</td>\n",
       "      <td>2</td>\n",
       "      <td>9976.02</td>\n",
       "      <td>12</td>\n",
       "      <td>12</td>\n",
       "      <td>8</td>\n",
       "      <td>1.00</td>\n",
       "      <td>4.65</td>\n",
       "      <td>2</td>\n",
       "      <td>25</td>\n",
       "      <td>2</td>\n",
       "      <td>10</td>\n",
       "      <td>Cum sociis natoque penatibus et magnis dis par...</td>\n",
       "    </tr>\n",
       "    <tr>\n",
       "      <th>399</th>\n",
       "      <td>5ca74cddfc13ae60bd000103</td>\n",
       "      <td>3</td>\n",
       "      <td>14947.74</td>\n",
       "      <td>11</td>\n",
       "      <td>16</td>\n",
       "      <td>7</td>\n",
       "      <td>1.00</td>\n",
       "      <td>1.71</td>\n",
       "      <td>2</td>\n",
       "      <td>24</td>\n",
       "      <td>6</td>\n",
       "      <td>2</td>\n",
       "      <td>Phasellus in felis. Donec semper sapien a libe...</td>\n",
       "    </tr>\n",
       "  </tbody>\n",
       "</table>\n",
       "<p>400 rows × 13 columns</p>\n",
       "</div>"
      ],
      "text/plain": [
       "                           id  purchase_counts  purchase_sum  \\\n",
       "0    5ca74cdcfc13ae60bd000097                5      44810.57   \n",
       "1    5ca74cddfc13ae60bd0000f5                5      30612.91   \n",
       "2    5ca74cddfc13ae60bd00010a                7      35655.59   \n",
       "3    5ca74cdcfc13ae60bd000073                7      30139.24   \n",
       "4    5ca74cdcfc13ae60bd000040                4       4501.13   \n",
       "..                        ...              ...           ...   \n",
       "395  5ca74cdcfc13ae60bd000013                4       1426.58   \n",
       "396  5ca74cddfc13ae60bd0000e3                7      13374.10   \n",
       "397  5ca74cddfc13ae60bd000117                1      23515.38   \n",
       "398  5ca74cdcfc13ae60bd0000ad                2       9976.02   \n",
       "399  5ca74cddfc13ae60bd000103                3      14947.74   \n",
       "\n",
       "     attribution_score  website_visits  website_behavior_classification  \\\n",
       "0                    4              14                                5   \n",
       "1                    9               7                                9   \n",
       "2                    3              26                                5   \n",
       "3                    7               9                                4   \n",
       "4                    3              10                                1   \n",
       "..                 ...             ...                              ...   \n",
       "395                  9               3                                5   \n",
       "396                  1              28                                4   \n",
       "397                 11               7                                4   \n",
       "398                 12              12                                8   \n",
       "399                 11              16                                7   \n",
       "\n",
       "     experience  active  characteristic_one  characteristic_two  \\\n",
       "0          0.00    2.05                   1                  25   \n",
       "1          0.00    4.94                   2                  25   \n",
       "2          0.00    3.61                   1                  26   \n",
       "3          0.01    4.44                   2                  26   \n",
       "4          0.02    4.51                   1                  25   \n",
       "..          ...     ...                 ...                 ...   \n",
       "395        0.99    4.99                   2                  25   \n",
       "396        0.99    2.38                   1                  25   \n",
       "397        0.99    1.48                   1                  25   \n",
       "398        1.00    4.65                   2                  25   \n",
       "399        1.00    1.71                   2                  24   \n",
       "\n",
       "     characteristic_three  customer_journey_progress_program  \\\n",
       "0                       3                                  2   \n",
       "1                       3                                  1   \n",
       "2                       1                                  1   \n",
       "3                       3                                  1   \n",
       "4                       3                                  1   \n",
       "..                    ...                                ...   \n",
       "395                     2                                  7   \n",
       "396                     6                                 10   \n",
       "397                     3                                 10   \n",
       "398                     2                                 10   \n",
       "399                     6                                  2   \n",
       "\n",
       "                                               remarks  \n",
       "0    In hac habitasse platea dictumst. Etiam faucib...  \n",
       "1    Praesent blandit. Nam nulla. Integer pede just...  \n",
       "2    Praesent id massa id nisl venenatis lacinia. A...  \n",
       "3    In hac habitasse platea dictumst. Morbi vestib...  \n",
       "4    Pellentesque at nulla. Suspendisse potenti. Cr...  \n",
       "..                                                 ...  \n",
       "395  In hac habitasse platea dictumst. Etiam faucib...  \n",
       "396  Duis consequat dui nec nisi volutpat eleifend....  \n",
       "397  Nulla ut erat id mauris vulputate elementum. N...  \n",
       "398  Cum sociis natoque penatibus et magnis dis par...  \n",
       "399  Phasellus in felis. Donec semper sapien a libe...  \n",
       "\n",
       "[400 rows x 13 columns]"
      ]
     },
     "execution_count": 5,
     "metadata": {},
     "output_type": "execute_result"
    }
   ],
   "source": [
    "data_to_access"
   ]
  },
  {
   "cell_type": "code",
   "execution_count": 6,
   "id": "e6440079",
   "metadata": {},
   "outputs": [
    {
     "data": {
      "text/plain": [
       "Index(['id', 'purchase_counts', 'purchase_sum', 'attribution_score',\n",
       "       'website_visits', 'website_behavior_classification', 'experience',\n",
       "       'active', 'characteristic_one', 'characteristic_two',\n",
       "       'characteristic_three', 'customer_journey_progress_program', 'remarks'],\n",
       "      dtype='object')"
      ]
     },
     "execution_count": 6,
     "metadata": {},
     "output_type": "execute_result"
    }
   ],
   "source": [
    "data_to_access.columns"
   ]
  },
  {
   "cell_type": "code",
   "execution_count": 7,
   "id": "cbf02deb",
   "metadata": {},
   "outputs": [
    {
     "data": {
      "text/plain": [
       "400"
      ]
     },
     "execution_count": 7,
     "metadata": {},
     "output_type": "execute_result"
    }
   ],
   "source": [
    "len(data_to_access)"
   ]
  },
  {
   "cell_type": "code",
   "execution_count": 8,
   "id": "dcffd364",
   "metadata": {},
   "outputs": [
    {
     "data": {
      "text/html": [
       "<div>\n",
       "<style scoped>\n",
       "    .dataframe tbody tr th:only-of-type {\n",
       "        vertical-align: middle;\n",
       "    }\n",
       "\n",
       "    .dataframe tbody tr th {\n",
       "        vertical-align: top;\n",
       "    }\n",
       "\n",
       "    .dataframe thead th {\n",
       "        text-align: right;\n",
       "    }\n",
       "</style>\n",
       "<table border=\"1\" class=\"dataframe\">\n",
       "  <thead>\n",
       "    <tr style=\"text-align: right;\">\n",
       "      <th></th>\n",
       "      <th>purchase_counts</th>\n",
       "      <th>purchase_sum</th>\n",
       "      <th>attribution_score</th>\n",
       "      <th>website_visits</th>\n",
       "      <th>website_behavior_classification</th>\n",
       "      <th>experience</th>\n",
       "      <th>active</th>\n",
       "      <th>characteristic_one</th>\n",
       "      <th>characteristic_two</th>\n",
       "      <th>characteristic_three</th>\n",
       "      <th>customer_journey_progress_program</th>\n",
       "    </tr>\n",
       "  </thead>\n",
       "  <tbody>\n",
       "    <tr>\n",
       "      <th>count</th>\n",
       "      <td>400.000000</td>\n",
       "      <td>400.000000</td>\n",
       "      <td>400.000000</td>\n",
       "      <td>400.000000</td>\n",
       "      <td>400.000000</td>\n",
       "      <td>400.000000</td>\n",
       "      <td>400.000000</td>\n",
       "      <td>400.00000</td>\n",
       "      <td>400.00000</td>\n",
       "      <td>400.000000</td>\n",
       "      <td>400.000000</td>\n",
       "    </tr>\n",
       "    <tr>\n",
       "      <th>mean</th>\n",
       "      <td>4.047500</td>\n",
       "      <td>24631.522625</td>\n",
       "      <td>5.947500</td>\n",
       "      <td>16.775000</td>\n",
       "      <td>6.340000</td>\n",
       "      <td>0.495700</td>\n",
       "      <td>3.085650</td>\n",
       "      <td>1.51250</td>\n",
       "      <td>25.09750</td>\n",
       "      <td>3.892500</td>\n",
       "      <td>5.387500</td>\n",
       "    </tr>\n",
       "    <tr>\n",
       "      <th>std</th>\n",
       "      <td>1.998808</td>\n",
       "      <td>14240.431535</td>\n",
       "      <td>3.909342</td>\n",
       "      <td>9.204411</td>\n",
       "      <td>3.392369</td>\n",
       "      <td>0.295642</td>\n",
       "      <td>1.151398</td>\n",
       "      <td>0.50047</td>\n",
       "      <td>0.98764</td>\n",
       "      <td>2.021425</td>\n",
       "      <td>2.925533</td>\n",
       "    </tr>\n",
       "    <tr>\n",
       "      <th>min</th>\n",
       "      <td>1.000000</td>\n",
       "      <td>48.130000</td>\n",
       "      <td>0.000000</td>\n",
       "      <td>1.000000</td>\n",
       "      <td>1.000000</td>\n",
       "      <td>0.000000</td>\n",
       "      <td>1.010000</td>\n",
       "      <td>1.00000</td>\n",
       "      <td>22.00000</td>\n",
       "      <td>1.000000</td>\n",
       "      <td>0.000000</td>\n",
       "    </tr>\n",
       "    <tr>\n",
       "      <th>25%</th>\n",
       "      <td>2.000000</td>\n",
       "      <td>12235.735000</td>\n",
       "      <td>2.000000</td>\n",
       "      <td>9.000000</td>\n",
       "      <td>3.750000</td>\n",
       "      <td>0.240000</td>\n",
       "      <td>2.115000</td>\n",
       "      <td>1.00000</td>\n",
       "      <td>25.00000</td>\n",
       "      <td>2.000000</td>\n",
       "      <td>3.000000</td>\n",
       "    </tr>\n",
       "    <tr>\n",
       "      <th>50%</th>\n",
       "      <td>4.000000</td>\n",
       "      <td>25002.425000</td>\n",
       "      <td>6.000000</td>\n",
       "      <td>16.000000</td>\n",
       "      <td>6.000000</td>\n",
       "      <td>0.470000</td>\n",
       "      <td>3.160000</td>\n",
       "      <td>2.00000</td>\n",
       "      <td>25.00000</td>\n",
       "      <td>4.000000</td>\n",
       "      <td>5.000000</td>\n",
       "    </tr>\n",
       "    <tr>\n",
       "      <th>75%</th>\n",
       "      <td>6.000000</td>\n",
       "      <td>36221.350000</td>\n",
       "      <td>9.000000</td>\n",
       "      <td>25.000000</td>\n",
       "      <td>9.000000</td>\n",
       "      <td>0.742500</td>\n",
       "      <td>4.120000</td>\n",
       "      <td>2.00000</td>\n",
       "      <td>26.00000</td>\n",
       "      <td>6.000000</td>\n",
       "      <td>8.000000</td>\n",
       "    </tr>\n",
       "    <tr>\n",
       "      <th>max</th>\n",
       "      <td>7.000000</td>\n",
       "      <td>49970.640000</td>\n",
       "      <td>12.000000</td>\n",
       "      <td>32.000000</td>\n",
       "      <td>12.000000</td>\n",
       "      <td>1.000000</td>\n",
       "      <td>5.000000</td>\n",
       "      <td>2.00000</td>\n",
       "      <td>28.00000</td>\n",
       "      <td>7.000000</td>\n",
       "      <td>10.000000</td>\n",
       "    </tr>\n",
       "  </tbody>\n",
       "</table>\n",
       "</div>"
      ],
      "text/plain": [
       "       purchase_counts  purchase_sum  attribution_score  website_visits  \\\n",
       "count       400.000000    400.000000         400.000000      400.000000   \n",
       "mean          4.047500  24631.522625           5.947500       16.775000   \n",
       "std           1.998808  14240.431535           3.909342        9.204411   \n",
       "min           1.000000     48.130000           0.000000        1.000000   \n",
       "25%           2.000000  12235.735000           2.000000        9.000000   \n",
       "50%           4.000000  25002.425000           6.000000       16.000000   \n",
       "75%           6.000000  36221.350000           9.000000       25.000000   \n",
       "max           7.000000  49970.640000          12.000000       32.000000   \n",
       "\n",
       "       website_behavior_classification  experience      active  \\\n",
       "count                       400.000000  400.000000  400.000000   \n",
       "mean                          6.340000    0.495700    3.085650   \n",
       "std                           3.392369    0.295642    1.151398   \n",
       "min                           1.000000    0.000000    1.010000   \n",
       "25%                           3.750000    0.240000    2.115000   \n",
       "50%                           6.000000    0.470000    3.160000   \n",
       "75%                           9.000000    0.742500    4.120000   \n",
       "max                          12.000000    1.000000    5.000000   \n",
       "\n",
       "       characteristic_one  characteristic_two  characteristic_three  \\\n",
       "count           400.00000           400.00000            400.000000   \n",
       "mean              1.51250            25.09750              3.892500   \n",
       "std               0.50047             0.98764              2.021425   \n",
       "min               1.00000            22.00000              1.000000   \n",
       "25%               1.00000            25.00000              2.000000   \n",
       "50%               2.00000            25.00000              4.000000   \n",
       "75%               2.00000            26.00000              6.000000   \n",
       "max               2.00000            28.00000              7.000000   \n",
       "\n",
       "       customer_journey_progress_program  \n",
       "count                         400.000000  \n",
       "mean                            5.387500  \n",
       "std                             2.925533  \n",
       "min                             0.000000  \n",
       "25%                             3.000000  \n",
       "50%                             5.000000  \n",
       "75%                             8.000000  \n",
       "max                            10.000000  "
      ]
     },
     "execution_count": 8,
     "metadata": {},
     "output_type": "execute_result"
    }
   ],
   "source": [
    "data_to_access.describe()"
   ]
  },
  {
   "cell_type": "code",
   "execution_count": 9,
   "id": "7d9cfba1",
   "metadata": {},
   "outputs": [
    {
     "data": {
      "text/plain": [
       "False"
      ]
     },
     "execution_count": 9,
     "metadata": {},
     "output_type": "execute_result"
    }
   ],
   "source": [
    "data_to_access.isnull().values.any()"
   ]
  },
  {
   "cell_type": "code",
   "execution_count": 10,
   "id": "eb733c2e",
   "metadata": {},
   "outputs": [],
   "source": [
    "import matplotlib.pyplot as plt\n",
    "%matplotlib inline"
   ]
  },
  {
   "cell_type": "code",
   "execution_count": 12,
   "id": "8f9f44e5",
   "metadata": {},
   "outputs": [
    {
     "data": {
      "text/plain": [
       "(array([81., 23., 24., 23., 30., 56., 41., 32., 20., 70.]),\n",
       " array([ 0. ,  1.2,  2.4,  3.6,  4.8,  6. ,  7.2,  8.4,  9.6, 10.8, 12. ]),\n",
       " <BarContainer object of 10 artists>)"
      ]
     },
     "execution_count": 12,
     "metadata": {},
     "output_type": "execute_result"
    },
    {
     "data": {
      "image/png": "[encoded data removed]",
      "text/plain": [
       "<Figure size 432x288 with 1 Axes>"
      ]
     },
     "metadata": {
      "needs_background": "light"
     },
     "output_type": "display_data"
    }
   ],
   "source": [
    "plt.hist(data_to_access.attribution_score)"
   ]
  },
  {
   "cell_type": "code",
   "execution_count": 13,
   "id": "5037f147",
   "metadata": {},
   "outputs": [
    {
     "data": {
      "text/plain": [
       "<AxesSubplot:xlabel='purchase_sum', ylabel='experience'>"
      ]
     },
     "execution_count": 13,
     "metadata": {},
     "output_type": "execute_result"
    },
    {
     "data": {
      "image/png": "[encoded data removed]",
      "text/plain": [
       "<Figure size 432x288 with 1 Axes>"
      ]
     },
     "metadata": {
      "needs_background": "light"
     },
     "output_type": "display_data"
    }
   ],
   "source": [
    "data_to_access.plot.scatter(x=\"purchase_sum\",y=\"experience\")"
   ]
  },
  {
   "cell_type": "code",
   "execution_count": 14,
   "id": "764ffad1",
   "metadata": {},
   "outputs": [
    {
     "ename": "AttributeError",
     "evalue": "'DataFrame' object has no attribute 'eda'",
     "output_type": "error",
     "traceback": [
      "\u001b[0;31m---------------------------------------------------------------------------\u001b[0m",
      "\u001b[0;31mAttributeError\u001b[0m                            Traceback (most recent call last)",
      "\u001b[0;32m<ipython-input-14-d724b31d4bb1>\u001b[0m in \u001b[0;36m<module>\u001b[0;34m\u001b[0m\n\u001b[0;32m----> 1\u001b[0;31m \u001b[0mdata_to_access\u001b[0m\u001b[0;34m.\u001b[0m\u001b[0meda\u001b[0m\u001b[0;34m(\u001b[0m\u001b[0;34m)\u001b[0m\u001b[0;34m\u001b[0m\u001b[0;34m\u001b[0m\u001b[0m\n\u001b[0m",
      "\u001b[0;32m/opt/anaconda3/lib/python3.8/site-packages/pandas/core/generic.py\u001b[0m in \u001b[0;36m__getattr__\u001b[0;34m(self, name)\u001b[0m\n\u001b[1;32m   5463\u001b[0m             \u001b[0;32mif\u001b[0m \u001b[0mself\u001b[0m\u001b[0;34m.\u001b[0m\u001b[0m_info_axis\u001b[0m\u001b[0;34m.\u001b[0m\u001b[0m_can_hold_identifiers_and_holds_name\u001b[0m\u001b[0;34m(\u001b[0m\u001b[0mname\u001b[0m\u001b[0;34m)\u001b[0m\u001b[0;34m:\u001b[0m\u001b[0;34m\u001b[0m\u001b[0;34m\u001b[0m\u001b[0m\n\u001b[1;32m   5464\u001b[0m                 \u001b[0;32mreturn\u001b[0m \u001b[0mself\u001b[0m\u001b[0;34m[\u001b[0m\u001b[0mname\u001b[0m\u001b[0;34m]\u001b[0m\u001b[0;34m\u001b[0m\u001b[0;34m\u001b[0m\u001b[0m\n\u001b[0;32m-> 5465\u001b[0;31m             \u001b[0;32mreturn\u001b[0m \u001b[0mobject\u001b[0m\u001b[0;34m.\u001b[0m\u001b[0m__getattribute__\u001b[0m\u001b[0;34m(\u001b[0m\u001b[0mself\u001b[0m\u001b[0;34m,\u001b[0m \u001b[0mname\u001b[0m\u001b[0;34m)\u001b[0m\u001b[0;34m\u001b[0m\u001b[0;34m\u001b[0m\u001b[0m\n\u001b[0m\u001b[1;32m   5466\u001b[0m \u001b[0;34m\u001b[0m\u001b[0m\n\u001b[1;32m   5467\u001b[0m     \u001b[0;32mdef\u001b[0m \u001b[0m__setattr__\u001b[0m\u001b[0;34m(\u001b[0m\u001b[0mself\u001b[0m\u001b[0;34m,\u001b[0m \u001b[0mname\u001b[0m\u001b[0;34m:\u001b[0m \u001b[0mstr\u001b[0m\u001b[0;34m,\u001b[0m \u001b[0mvalue\u001b[0m\u001b[0;34m)\u001b[0m \u001b[0;34m->\u001b[0m \u001b[0;32mNone\u001b[0m\u001b[0;34m:\u001b[0m\u001b[0;34m\u001b[0m\u001b[0;34m\u001b[0m\u001b[0m\n",
      "\u001b[0;31mAttributeError\u001b[0m: 'DataFrame' object has no attribute 'eda'"
     ]
    }
   ],
   "source": [
    "data_to_access.eda()"
   ]
  },
  {
   "cell_type": "code",
   "execution_count": 15,
   "id": "0ffd25e9",
   "metadata": {},
   "outputs": [],
   "source": [
    "import warnings\n",
    "warnings.filterwarnings('ignore')"
   ]
  },
  {
   "cell_type": "code",
   "execution_count": 16,
   "id": "e0aec40a",
   "metadata": {},
   "outputs": [
    {
     "data": {
      "text/html": [
       "<div>\n",
       "<style scoped>\n",
       "    .dataframe tbody tr th:only-of-type {\n",
       "        vertical-align: middle;\n",
       "    }\n",
       "\n",
       "    .dataframe tbody tr th {\n",
       "        vertical-align: top;\n",
       "    }\n",
       "\n",
       "    .dataframe thead th {\n",
       "        text-align: right;\n",
       "    }\n",
       "</style>\n",
       "<table border=\"1\" class=\"dataframe\">\n",
       "  <thead>\n",
       "    <tr style=\"text-align: right;\">\n",
       "      <th></th>\n",
       "      <th>purchase_counts</th>\n",
       "      <th>purchase_sum</th>\n",
       "      <th>attribution_score</th>\n",
       "      <th>website_visits</th>\n",
       "      <th>website_behavior_classification</th>\n",
       "      <th>experience</th>\n",
       "      <th>active</th>\n",
       "      <th>characteristic_one</th>\n",
       "      <th>characteristic_two</th>\n",
       "      <th>characteristic_three</th>\n",
       "      <th>customer_journey_progress_program</th>\n",
       "    </tr>\n",
       "  </thead>\n",
       "  <tbody>\n",
       "    <tr>\n",
       "      <th>purchase_counts</th>\n",
       "      <td>1.000000</td>\n",
       "      <td>0.114807</td>\n",
       "      <td>-0.042659</td>\n",
       "      <td>-0.004049</td>\n",
       "      <td>-0.046742</td>\n",
       "      <td>-0.040072</td>\n",
       "      <td>0.037639</td>\n",
       "      <td>-0.094548</td>\n",
       "      <td>-0.006161</td>\n",
       "      <td>0.048409</td>\n",
       "      <td>-0.012585</td>\n",
       "    </tr>\n",
       "    <tr>\n",
       "      <th>purchase_sum</th>\n",
       "      <td>0.114807</td>\n",
       "      <td>1.000000</td>\n",
       "      <td>-0.049966</td>\n",
       "      <td>-0.069247</td>\n",
       "      <td>-0.038276</td>\n",
       "      <td>0.025457</td>\n",
       "      <td>-0.034714</td>\n",
       "      <td>-0.056691</td>\n",
       "      <td>-0.065040</td>\n",
       "      <td>-0.005819</td>\n",
       "      <td>-0.002640</td>\n",
       "    </tr>\n",
       "    <tr>\n",
       "      <th>attribution_score</th>\n",
       "      <td>-0.042659</td>\n",
       "      <td>-0.049966</td>\n",
       "      <td>1.000000</td>\n",
       "      <td>-0.019553</td>\n",
       "      <td>0.017413</td>\n",
       "      <td>0.000997</td>\n",
       "      <td>-0.037774</td>\n",
       "      <td>0.052216</td>\n",
       "      <td>-0.029829</td>\n",
       "      <td>-0.074929</td>\n",
       "      <td>-0.025171</td>\n",
       "    </tr>\n",
       "    <tr>\n",
       "      <th>website_visits</th>\n",
       "      <td>-0.004049</td>\n",
       "      <td>-0.069247</td>\n",
       "      <td>-0.019553</td>\n",
       "      <td>1.000000</td>\n",
       "      <td>-0.026279</td>\n",
       "      <td>-0.053223</td>\n",
       "      <td>0.022142</td>\n",
       "      <td>0.017478</td>\n",
       "      <td>0.005452</td>\n",
       "      <td>-0.017198</td>\n",
       "      <td>-0.039103</td>\n",
       "    </tr>\n",
       "    <tr>\n",
       "      <th>website_behavior_classification</th>\n",
       "      <td>-0.046742</td>\n",
       "      <td>-0.038276</td>\n",
       "      <td>0.017413</td>\n",
       "      <td>-0.026279</td>\n",
       "      <td>1.000000</td>\n",
       "      <td>0.036122</td>\n",
       "      <td>0.150231</td>\n",
       "      <td>-0.060081</td>\n",
       "      <td>0.013270</td>\n",
       "      <td>-0.032667</td>\n",
       "      <td>0.090230</td>\n",
       "    </tr>\n",
       "    <tr>\n",
       "      <th>experience</th>\n",
       "      <td>-0.040072</td>\n",
       "      <td>0.025457</td>\n",
       "      <td>0.000997</td>\n",
       "      <td>-0.053223</td>\n",
       "      <td>0.036122</td>\n",
       "      <td>1.000000</td>\n",
       "      <td>0.046166</td>\n",
       "      <td>-0.051469</td>\n",
       "      <td>-0.050147</td>\n",
       "      <td>-0.000608</td>\n",
       "      <td>0.873334</td>\n",
       "    </tr>\n",
       "    <tr>\n",
       "      <th>active</th>\n",
       "      <td>0.037639</td>\n",
       "      <td>-0.034714</td>\n",
       "      <td>-0.037774</td>\n",
       "      <td>0.022142</td>\n",
       "      <td>0.150231</td>\n",
       "      <td>0.046166</td>\n",
       "      <td>1.000000</td>\n",
       "      <td>0.099303</td>\n",
       "      <td>0.061071</td>\n",
       "      <td>-0.015051</td>\n",
       "      <td>0.050226</td>\n",
       "    </tr>\n",
       "    <tr>\n",
       "      <th>characteristic_one</th>\n",
       "      <td>-0.094548</td>\n",
       "      <td>-0.056691</td>\n",
       "      <td>0.052216</td>\n",
       "      <td>0.017478</td>\n",
       "      <td>-0.060081</td>\n",
       "      <td>-0.051469</td>\n",
       "      <td>0.099303</td>\n",
       "      <td>1.000000</td>\n",
       "      <td>-0.030360</td>\n",
       "      <td>0.005048</td>\n",
       "      <td>-0.038408</td>\n",
       "    </tr>\n",
       "    <tr>\n",
       "      <th>characteristic_two</th>\n",
       "      <td>-0.006161</td>\n",
       "      <td>-0.065040</td>\n",
       "      <td>-0.029829</td>\n",
       "      <td>0.005452</td>\n",
       "      <td>0.013270</td>\n",
       "      <td>-0.050147</td>\n",
       "      <td>0.061071</td>\n",
       "      <td>-0.030360</td>\n",
       "      <td>1.000000</td>\n",
       "      <td>0.022838</td>\n",
       "      <td>-0.065153</td>\n",
       "    </tr>\n",
       "    <tr>\n",
       "      <th>characteristic_three</th>\n",
       "      <td>0.048409</td>\n",
       "      <td>-0.005819</td>\n",
       "      <td>-0.074929</td>\n",
       "      <td>-0.017198</td>\n",
       "      <td>-0.032667</td>\n",
       "      <td>-0.000608</td>\n",
       "      <td>-0.015051</td>\n",
       "      <td>0.005048</td>\n",
       "      <td>0.022838</td>\n",
       "      <td>1.000000</td>\n",
       "      <td>-0.018790</td>\n",
       "    </tr>\n",
       "    <tr>\n",
       "      <th>customer_journey_progress_program</th>\n",
       "      <td>-0.012585</td>\n",
       "      <td>-0.002640</td>\n",
       "      <td>-0.025171</td>\n",
       "      <td>-0.039103</td>\n",
       "      <td>0.090230</td>\n",
       "      <td>0.873334</td>\n",
       "      <td>0.050226</td>\n",
       "      <td>-0.038408</td>\n",
       "      <td>-0.065153</td>\n",
       "      <td>-0.018790</td>\n",
       "      <td>1.000000</td>\n",
       "    </tr>\n",
       "  </tbody>\n",
       "</table>\n",
       "</div>"
      ],
      "text/plain": [
       "                                   purchase_counts  purchase_sum  \\\n",
       "purchase_counts                           1.000000      0.114807   \n",
       "purchase_sum                              0.114807      1.000000   \n",
       "attribution_score                        -0.042659     -0.049966   \n",
       "website_visits                           -0.004049     -0.069247   \n",
       "website_behavior_classification          -0.046742     -0.038276   \n",
       "experience                               -0.040072      0.025457   \n",
       "active                                    0.037639     -0.034714   \n",
       "characteristic_one                       -0.094548     -0.056691   \n",
       "characteristic_two                       -0.006161     -0.065040   \n",
       "characteristic_three                      0.048409     -0.005819   \n",
       "customer_journey_progress_program        -0.012585     -0.002640   \n",
       "\n",
       "                                   attribution_score  website_visits  \\\n",
       "purchase_counts                            -0.042659       -0.004049   \n",
       "purchase_sum                               -0.049966       -0.069247   \n",
       "attribution_score                           1.000000       -0.019553   \n",
       "website_visits                             -0.019553        1.000000   \n",
       "website_behavior_classification             0.017413       -0.026279   \n",
       "experience                                  0.000997       -0.053223   \n",
       "active                                     -0.037774        0.022142   \n",
       "characteristic_one                          0.052216        0.017478   \n",
       "characteristic_two                         -0.029829        0.005452   \n",
       "characteristic_three                       -0.074929       -0.017198   \n",
       "customer_journey_progress_program          -0.025171       -0.039103   \n",
       "\n",
       "                                   website_behavior_classification  \\\n",
       "purchase_counts                                          -0.046742   \n",
       "purchase_sum                                             -0.038276   \n",
       "attribution_score                                         0.017413   \n",
       "website_visits                                           -0.026279   \n",
       "website_behavior_classification                           1.000000   \n",
       "experience                                                0.036122   \n",
       "active                                                    0.150231   \n",
       "characteristic_one                                       -0.060081   \n",
       "characteristic_two                                        0.013270   \n",
       "characteristic_three                                     -0.032667   \n",
       "customer_journey_progress_program                         0.090230   \n",
       "\n",
       "                                   experience    active  characteristic_one  \\\n",
       "purchase_counts                     -0.040072  0.037639           -0.094548   \n",
       "purchase_sum                         0.025457 -0.034714           -0.056691   \n",
       "attribution_score                    0.000997 -0.037774            0.052216   \n",
       "website_visits                      -0.053223  0.022142            0.017478   \n",
       "website_behavior_classification      0.036122  0.150231           -0.060081   \n",
       "experience                           1.000000  0.046166           -0.051469   \n",
       "active                               0.046166  1.000000            0.099303   \n",
       "characteristic_one                  -0.051469  0.099303            1.000000   \n",
       "characteristic_two                  -0.050147  0.061071           -0.030360   \n",
       "characteristic_three                -0.000608 -0.015051            0.005048   \n",
       "customer_journey_progress_program    0.873334  0.050226           -0.038408   \n",
       "\n",
       "                                   characteristic_two  characteristic_three  \\\n",
       "purchase_counts                             -0.006161              0.048409   \n",
       "purchase_sum                                -0.065040             -0.005819   \n",
       "attribution_score                           -0.029829             -0.074929   \n",
       "website_visits                               0.005452             -0.017198   \n",
       "website_behavior_classification              0.013270             -0.032667   \n",
       "experience                                  -0.050147             -0.000608   \n",
       "active                                       0.061071             -0.015051   \n",
       "characteristic_one                          -0.030360              0.005048   \n",
       "characteristic_two                           1.000000              0.022838   \n",
       "characteristic_three                         0.022838              1.000000   \n",
       "customer_journey_progress_program           -0.065153             -0.018790   \n",
       "\n",
       "                                   customer_journey_progress_program  \n",
       "purchase_counts                                            -0.012585  \n",
       "purchase_sum                                               -0.002640  \n",
       "attribution_score                                          -0.025171  \n",
       "website_visits                                             -0.039103  \n",
       "website_behavior_classification                             0.090230  \n",
       "experience                                                  0.873334  \n",
       "active                                                      0.050226  \n",
       "characteristic_one                                         -0.038408  \n",
       "characteristic_two                                         -0.065153  \n",
       "characteristic_three                                       -0.018790  \n",
       "customer_journey_progress_program                           1.000000  "
      ]
     },
     "execution_count": 16,
     "metadata": {},
     "output_type": "execute_result"
    }
   ],
   "source": [
    "data_to_access.corr()"
   ]
  },
  {
   "cell_type": "code",
   "execution_count": 17,
   "id": "be8cc583",
   "metadata": {},
   "outputs": [
    {
     "data": {
      "text/plain": [
       "<AxesSubplot:xlabel='experience', ylabel='customer_journey_progress_program'>"
      ]
     },
     "execution_count": 17,
     "metadata": {},
     "output_type": "execute_result"
    },
    {
     "data": {
      "image/png": "[encoded data removed]",
      "text/plain": [
       "<Figure size 432x288 with 1 Axes>"
      ]
     },
     "metadata": {
      "needs_background": "light"
     },
     "output_type": "display_data"
    }
   ],
   "source": [
    "data_to_access.plot.scatter(x='experience',y='customer_journey_progress_program')"
   ]
  },
  {
   "cell_type": "code",
   "execution_count": 18,
   "id": "256e922c",
   "metadata": {},
   "outputs": [],
   "source": [
    "import numpy as np\n",
    "import seaborn as sns"
   ]
  },
  {
   "cell_type": "code",
   "execution_count": 20,
   "id": "e9d37a90",
   "metadata": {},
   "outputs": [
    {
     "data": {
      "text/plain": [
       "<AxesSubplot:xlabel='experience', ylabel='customer_journey_progress_program'>"
      ]
     },
     "execution_count": 20,
     "metadata": {},
     "output_type": "execute_result"
    },
    {
     "data": {
      "image/png": "[encoded data removed]",
      "text/plain": [
       "<Figure size 432x288 with 1 Axes>"
      ]
     },
     "metadata": {
      "needs_background": "light"
     },
     "output_type": "display_data"
    }
   ],
   "source": [
    "sns.regplot(x='experience',y='customer_journey_progress_program', data=data_to_access)"
   ]
  },
  {
   "cell_type": "code",
   "execution_count": 21,
   "id": "97f1adb3",
   "metadata": {},
   "outputs": [],
   "source": [
    "from sklearn.linear_model import LinearRegression"
   ]
  },
  {
   "cell_type": "code",
   "execution_count": 23,
   "id": "b6789468",
   "metadata": {},
   "outputs": [],
   "source": [
    "X = data_to_access[['customer_journey_progress_program']]"
   ]
  },
  {
   "cell_type": "code",
   "execution_count": 24,
   "id": "5437fe8a",
   "metadata": {},
   "outputs": [
    {
     "data": {
      "text/html": [
       "<div>\n",
       "<style scoped>\n",
       "    .dataframe tbody tr th:only-of-type {\n",
       "        vertical-align: middle;\n",
       "    }\n",
       "\n",
       "    .dataframe tbody tr th {\n",
       "        vertical-align: top;\n",
       "    }\n",
       "\n",
       "    .dataframe thead th {\n",
       "        text-align: right;\n",
       "    }\n",
       "</style>\n",
       "<table border=\"1\" class=\"dataframe\">\n",
       "  <thead>\n",
       "    <tr style=\"text-align: right;\">\n",
       "      <th></th>\n",
       "      <th>customer_journey_progress_program</th>\n",
       "    </tr>\n",
       "  </thead>\n",
       "  <tbody>\n",
       "    <tr>\n",
       "      <th>0</th>\n",
       "      <td>2</td>\n",
       "    </tr>\n",
       "    <tr>\n",
       "      <th>1</th>\n",
       "      <td>1</td>\n",
       "    </tr>\n",
       "    <tr>\n",
       "      <th>2</th>\n",
       "      <td>1</td>\n",
       "    </tr>\n",
       "    <tr>\n",
       "      <th>3</th>\n",
       "      <td>1</td>\n",
       "    </tr>\n",
       "    <tr>\n",
       "      <th>4</th>\n",
       "      <td>1</td>\n",
       "    </tr>\n",
       "  </tbody>\n",
       "</table>\n",
       "</div>"
      ],
      "text/plain": [
       "   customer_journey_progress_program\n",
       "0                                  2\n",
       "1                                  1\n",
       "2                                  1\n",
       "3                                  1\n",
       "4                                  1"
      ]
     },
     "execution_count": 24,
     "metadata": {},
     "output_type": "execute_result"
    }
   ],
   "source": [
    "X.head()"
   ]
  },
  {
   "cell_type": "code",
   "execution_count": 25,
   "id": "5b28b1f5",
   "metadata": {},
   "outputs": [],
   "source": [
    "Y = data_to_access['experience']"
   ]
  },
  {
   "cell_type": "code",
   "execution_count": 26,
   "id": "4692f60d",
   "metadata": {},
   "outputs": [
    {
     "data": {
      "text/plain": [
       "0    0.00\n",
       "1    0.00\n",
       "2    0.00\n",
       "3    0.01\n",
       "4    0.02\n",
       "Name: experience, dtype: float64"
      ]
     },
     "execution_count": 26,
     "metadata": {},
     "output_type": "execute_result"
    }
   ],
   "source": [
    "Y.head()"
   ]
  },
  {
   "cell_type": "code",
   "execution_count": 27,
   "id": "98573c77",
   "metadata": {},
   "outputs": [],
   "source": [
    "lm = LinearRegression()"
   ]
  },
  {
   "cell_type": "code",
   "execution_count": 28,
   "id": "be15dc84",
   "metadata": {},
   "outputs": [
    {
     "data": {
      "text/plain": [
       "LinearRegression()"
      ]
     },
     "execution_count": 28,
     "metadata": {},
     "output_type": "execute_result"
    }
   ],
   "source": [
    "lm.fit(X,Y)"
   ]
  },
  {
   "cell_type": "code",
   "execution_count": 29,
   "id": "e0c5a06f",
   "metadata": {},
   "outputs": [
    {
     "data": {
      "text/plain": [
       "0.762711907750049"
      ]
     },
     "execution_count": 29,
     "metadata": {},
     "output_type": "execute_result"
    }
   ],
   "source": [
    "lm.score(X,Y)"
   ]
  },
  {
   "cell_type": "code",
   "execution_count": 30,
   "id": "3aaf6f60",
   "metadata": {},
   "outputs": [
    {
     "data": {
      "text/plain": [
       "array([0.19673501, 0.10847966, 0.10847966, 0.10847966, 0.10847966,\n",
       "       0.10847966, 0.10847966, 0.28499035, 0.10847966, 0.10847966,\n",
       "       0.10847966, 0.10847966, 0.10847966, 0.10847966, 0.10847966,\n",
       "       0.10847966, 0.10847966, 0.10847966, 0.81452245, 0.10847966,\n",
       "       0.10847966, 0.10847966, 0.10847966, 0.10847966, 0.10847966,\n",
       "       0.10847966, 0.10847966, 0.10847966, 0.10847966, 0.10847966,\n",
       "       0.10847966, 0.10847966, 0.10847966, 0.19673501, 0.10847966,\n",
       "       0.81452245, 0.10847966, 0.10847966, 0.10847966, 0.10847966,\n",
       "       0.02022431, 0.81452245, 0.19673501, 0.10847966, 0.19673501,\n",
       "       0.19673501, 0.19673501, 0.19673501, 0.19673501, 0.19673501,\n",
       "       0.19673501, 0.19673501, 0.19673501, 0.19673501, 0.19673501,\n",
       "       0.19673501, 0.19673501, 0.19673501, 0.63801175, 0.19673501,\n",
       "       0.19673501, 0.19673501, 0.19673501, 0.19673501, 0.19673501,\n",
       "       0.19673501, 0.19673501, 0.19673501, 0.19673501, 0.19673501,\n",
       "       0.5497564 , 0.19673501, 0.19673501, 0.19673501, 0.19673501,\n",
       "       0.10847966, 0.19673501, 0.19673501, 0.19673501, 0.19673501,\n",
       "       0.19673501, 0.19673501, 0.19673501, 0.19673501, 0.19673501,\n",
       "       0.19673501, 0.28499035, 0.28499035, 0.28499035, 0.28499035,\n",
       "       0.28499035, 0.63801175, 0.28499035, 0.28499035, 0.28499035,\n",
       "       0.7262671 , 0.28499035, 0.19673501, 0.10847966, 0.28499035,\n",
       "       0.28499035, 0.28499035, 0.28499035, 0.19673501, 0.81452245,\n",
       "       0.28499035, 0.28499035, 0.28499035, 0.28499035, 0.28499035,\n",
       "       0.28499035, 0.28499035, 0.28499035, 0.28499035, 0.28499035,\n",
       "       0.28499035, 0.28499035, 0.28499035, 0.28499035, 0.28499035,\n",
       "       0.28499035, 0.28499035, 0.28499035, 0.28499035, 0.28499035,\n",
       "       0.28499035, 0.28499035, 0.28499035, 0.28499035, 0.3732457 ,\n",
       "       0.3732457 , 0.3732457 , 0.3732457 , 0.3732457 , 0.3732457 ,\n",
       "       0.81452245, 0.3732457 , 0.3732457 , 0.3732457 , 0.3732457 ,\n",
       "       0.3732457 , 0.28499035, 0.3732457 , 0.3732457 , 0.3732457 ,\n",
       "       0.19673501, 0.3732457 , 0.3732457 , 0.3732457 , 0.3732457 ,\n",
       "       0.3732457 , 0.3732457 , 0.3732457 , 0.19673501, 0.3732457 ,\n",
       "       0.3732457 , 0.46150105, 0.3732457 , 0.3732457 , 0.3732457 ,\n",
       "       0.3732457 , 0.3732457 , 0.3732457 , 0.3732457 , 0.3732457 ,\n",
       "       0.3732457 , 0.3732457 , 0.46150105, 0.46150105, 0.46150105,\n",
       "       0.46150105, 0.46150105, 0.46150105, 0.46150105, 0.46150105,\n",
       "       0.46150105, 0.46150105, 0.46150105, 0.46150105, 0.46150105,\n",
       "       0.46150105, 0.46150105, 0.46150105, 0.46150105, 0.46150105,\n",
       "       0.46150105, 0.46150105, 0.46150105, 0.46150105, 0.46150105,\n",
       "       0.46150105, 0.46150105, 0.46150105, 0.46150105, 0.46150105,\n",
       "       0.46150105, 0.81452245, 0.46150105, 0.46150105, 0.46150105,\n",
       "       0.46150105, 0.46150105, 0.7262671 , 0.7262671 , 0.46150105,\n",
       "       0.46150105, 0.46150105, 0.46150105, 0.5497564 , 0.5497564 ,\n",
       "       0.5497564 , 0.5497564 , 0.5497564 , 0.5497564 , 0.5497564 ,\n",
       "       0.5497564 , 0.5497564 , 0.5497564 , 0.5497564 , 0.5497564 ,\n",
       "       0.5497564 , 0.5497564 , 0.5497564 , 0.5497564 , 0.5497564 ,\n",
       "       0.5497564 , 0.5497564 , 0.5497564 , 0.5497564 , 0.5497564 ,\n",
       "       0.5497564 , 0.5497564 , 0.5497564 , 0.46150105, 0.28499035,\n",
       "       0.5497564 , 0.5497564 , 0.5497564 , 0.5497564 , 0.63801175,\n",
       "       0.63801175, 0.63801175, 0.63801175, 0.63801175, 0.63801175,\n",
       "       0.63801175, 0.63801175, 0.63801175, 0.19673501, 0.63801175,\n",
       "       0.63801175, 0.63801175, 0.63801175, 0.63801175, 0.63801175,\n",
       "       0.63801175, 0.63801175, 0.63801175, 0.63801175, 0.63801175,\n",
       "       0.63801175, 0.28499035, 0.63801175, 0.10847966, 0.63801175,\n",
       "       0.63801175, 0.63801175, 0.81452245, 0.63801175, 0.63801175,\n",
       "       0.63801175, 0.63801175, 0.7262671 , 0.7262671 , 0.63801175,\n",
       "       0.63801175, 0.63801175, 0.63801175, 0.63801175, 0.63801175,\n",
       "       0.63801175, 0.63801175, 0.7262671 , 0.7262671 , 0.7262671 ,\n",
       "       0.7262671 , 0.7262671 , 0.7262671 , 0.7262671 , 0.7262671 ,\n",
       "       0.7262671 , 0.7262671 , 0.7262671 , 0.7262671 , 0.7262671 ,\n",
       "       0.7262671 , 0.7262671 , 0.7262671 , 0.7262671 , 0.7262671 ,\n",
       "       0.5497564 , 0.7262671 , 0.7262671 , 0.7262671 , 0.7262671 ,\n",
       "       0.7262671 , 0.7262671 , 0.7262671 , 0.7262671 , 0.7262671 ,\n",
       "       0.7262671 , 0.7262671 , 0.7262671 , 0.7262671 , 0.7262671 ,\n",
       "       0.7262671 , 0.7262671 , 0.7262671 , 0.81452245, 0.81452245,\n",
       "       0.81452245, 0.81452245, 0.81452245, 0.46150105, 0.3732457 ,\n",
       "       0.81452245, 0.81452245, 0.81452245, 0.19673501, 0.81452245,\n",
       "       0.81452245, 0.81452245, 0.81452245, 0.81452245, 0.81452245,\n",
       "       0.81452245, 0.81452245, 0.19673501, 0.81452245, 0.81452245,\n",
       "       0.81452245, 0.81452245, 0.81452245, 0.81452245, 0.81452245,\n",
       "       0.81452245, 0.81452245, 0.81452245, 0.81452245, 0.81452245,\n",
       "       0.81452245, 0.81452245, 0.81452245, 0.81452245, 0.81452245,\n",
       "       0.81452245, 0.81452245, 0.81452245, 0.9027778 , 0.9027778 ,\n",
       "       0.9027778 , 0.9027778 , 0.9027778 , 0.9027778 , 0.9027778 ,\n",
       "       0.3732457 , 0.9027778 , 0.9027778 , 0.19673501, 0.9027778 ,\n",
       "       0.9027778 , 0.9027778 , 0.9027778 , 0.9027778 , 0.9027778 ,\n",
       "       0.9027778 , 0.9027778 , 0.9027778 , 0.9027778 , 0.9027778 ,\n",
       "       0.9027778 , 0.9027778 , 0.9027778 , 0.9027778 , 0.28499035,\n",
       "       0.9027778 , 0.9027778 , 0.9027778 , 0.9027778 , 0.9027778 ,\n",
       "       0.9027778 , 0.9027778 , 0.9027778 , 0.9027778 , 0.9027778 ,\n",
       "       0.63801175, 0.9027778 , 0.9027778 , 0.9027778 , 0.19673501])"
      ]
     },
     "execution_count": 30,
     "metadata": {},
     "output_type": "execute_result"
    }
   ],
   "source": [
    "lm.predict(X)"
   ]
  },
  {
   "cell_type": "code",
   "execution_count": 31,
   "id": "9dd0142a",
   "metadata": {},
   "outputs": [],
   "source": [
    "from sklearn.cluster import KMeans"
   ]
  },
  {
   "cell_type": "code",
   "execution_count": 32,
   "id": "9f031532",
   "metadata": {},
   "outputs": [],
   "source": [
    "x = pd.DataFrame(data_to_access, columns = ['purchase_sum','experience'])"
   ]
  },
  {
   "cell_type": "code",
   "execution_count": 33,
   "id": "5b7efef4",
   "metadata": {},
   "outputs": [
    {
     "data": {
      "text/html": [
       "<div>\n",
       "<style scoped>\n",
       "    .dataframe tbody tr th:only-of-type {\n",
       "        vertical-align: middle;\n",
       "    }\n",
       "\n",
       "    .dataframe tbody tr th {\n",
       "        vertical-align: top;\n",
       "    }\n",
       "\n",
       "    .dataframe thead th {\n",
       "        text-align: right;\n",
       "    }\n",
       "</style>\n",
       "<table border=\"1\" class=\"dataframe\">\n",
       "  <thead>\n",
       "    <tr style=\"text-align: right;\">\n",
       "      <th></th>\n",
       "      <th>purchase_sum</th>\n",
       "      <th>experience</th>\n",
       "    </tr>\n",
       "  </thead>\n",
       "  <tbody>\n",
       "    <tr>\n",
       "      <th>0</th>\n",
       "      <td>44810.57</td>\n",
       "      <td>0.00</td>\n",
       "    </tr>\n",
       "    <tr>\n",
       "      <th>1</th>\n",
       "      <td>30612.91</td>\n",
       "      <td>0.00</td>\n",
       "    </tr>\n",
       "    <tr>\n",
       "      <th>2</th>\n",
       "      <td>35655.59</td>\n",
       "      <td>0.00</td>\n",
       "    </tr>\n",
       "    <tr>\n",
       "      <th>3</th>\n",
       "      <td>30139.24</td>\n",
       "      <td>0.01</td>\n",
       "    </tr>\n",
       "    <tr>\n",
       "      <th>4</th>\n",
       "      <td>4501.13</td>\n",
       "      <td>0.02</td>\n",
       "    </tr>\n",
       "  </tbody>\n",
       "</table>\n",
       "</div>"
      ],
      "text/plain": [
       "   purchase_sum  experience\n",
       "0      44810.57        0.00\n",
       "1      30612.91        0.00\n",
       "2      35655.59        0.00\n",
       "3      30139.24        0.01\n",
       "4       4501.13        0.02"
      ]
     },
     "execution_count": 33,
     "metadata": {},
     "output_type": "execute_result"
    }
   ],
   "source": [
    "x.head()"
   ]
  },
  {
   "cell_type": "code",
   "execution_count": 34,
   "id": "cd5c842a",
   "metadata": {},
   "outputs": [],
   "source": [
    "y = pd.DataFrame(data_to_access.characteristic_one)"
   ]
  },
  {
   "cell_type": "code",
   "execution_count": 35,
   "id": "a26c8839",
   "metadata": {},
   "outputs": [
    {
     "data": {
      "text/html": [
       "<div>\n",
       "<style scoped>\n",
       "    .dataframe tbody tr th:only-of-type {\n",
       "        vertical-align: middle;\n",
       "    }\n",
       "\n",
       "    .dataframe tbody tr th {\n",
       "        vertical-align: top;\n",
       "    }\n",
       "\n",
       "    .dataframe thead th {\n",
       "        text-align: right;\n",
       "    }\n",
       "</style>\n",
       "<table border=\"1\" class=\"dataframe\">\n",
       "  <thead>\n",
       "    <tr style=\"text-align: right;\">\n",
       "      <th></th>\n",
       "      <th>characteristic_one</th>\n",
       "    </tr>\n",
       "  </thead>\n",
       "  <tbody>\n",
       "    <tr>\n",
       "      <th>0</th>\n",
       "      <td>1</td>\n",
       "    </tr>\n",
       "    <tr>\n",
       "      <th>1</th>\n",
       "      <td>2</td>\n",
       "    </tr>\n",
       "    <tr>\n",
       "      <th>2</th>\n",
       "      <td>1</td>\n",
       "    </tr>\n",
       "    <tr>\n",
       "      <th>3</th>\n",
       "      <td>2</td>\n",
       "    </tr>\n",
       "    <tr>\n",
       "      <th>4</th>\n",
       "      <td>1</td>\n",
       "    </tr>\n",
       "  </tbody>\n",
       "</table>\n",
       "</div>"
      ],
      "text/plain": [
       "   characteristic_one\n",
       "0                   1\n",
       "1                   2\n",
       "2                   1\n",
       "3                   2\n",
       "4                   1"
      ]
     },
     "execution_count": 35,
     "metadata": {},
     "output_type": "execute_result"
    }
   ],
   "source": [
    "y.head()"
   ]
  },
  {
   "cell_type": "code",
   "execution_count": 37,
   "id": "eecbf787",
   "metadata": {},
   "outputs": [],
   "source": [
    "y.columns = ['Targets']"
   ]
  },
  {
   "cell_type": "code",
   "execution_count": 38,
   "id": "902f2803",
   "metadata": {},
   "outputs": [
    {
     "name": "stdout",
     "output_type": "stream",
     "text": [
      "<class 'pandas.core.frame.DataFrame'>\n",
      "RangeIndex: 400 entries, 0 to 399\n",
      "Data columns (total 1 columns):\n",
      " #   Column   Non-Null Count  Dtype\n",
      "---  ------   --------------  -----\n",
      " 0   Targets  400 non-null    int64\n",
      "dtypes: int64(1)\n",
      "memory usage: 3.2 KB\n"
     ]
    }
   ],
   "source": [
    "y.info()"
   ]
  },
  {
   "cell_type": "code",
   "execution_count": 39,
   "id": "b5d8b3d8",
   "metadata": {},
   "outputs": [
    {
     "data": {
      "text/html": [
       "<div>\n",
       "<style scoped>\n",
       "    .dataframe tbody tr th:only-of-type {\n",
       "        vertical-align: middle;\n",
       "    }\n",
       "\n",
       "    .dataframe tbody tr th {\n",
       "        vertical-align: top;\n",
       "    }\n",
       "\n",
       "    .dataframe thead th {\n",
       "        text-align: right;\n",
       "    }\n",
       "</style>\n",
       "<table border=\"1\" class=\"dataframe\">\n",
       "  <thead>\n",
       "    <tr style=\"text-align: right;\">\n",
       "      <th></th>\n",
       "      <th>Targets</th>\n",
       "    </tr>\n",
       "  </thead>\n",
       "  <tbody>\n",
       "    <tr>\n",
       "      <th>count</th>\n",
       "      <td>400.00000</td>\n",
       "    </tr>\n",
       "    <tr>\n",
       "      <th>mean</th>\n",
       "      <td>1.51250</td>\n",
       "    </tr>\n",
       "    <tr>\n",
       "      <th>std</th>\n",
       "      <td>0.50047</td>\n",
       "    </tr>\n",
       "    <tr>\n",
       "      <th>min</th>\n",
       "      <td>1.00000</td>\n",
       "    </tr>\n",
       "    <tr>\n",
       "      <th>25%</th>\n",
       "      <td>1.00000</td>\n",
       "    </tr>\n",
       "    <tr>\n",
       "      <th>50%</th>\n",
       "      <td>2.00000</td>\n",
       "    </tr>\n",
       "    <tr>\n",
       "      <th>75%</th>\n",
       "      <td>2.00000</td>\n",
       "    </tr>\n",
       "    <tr>\n",
       "      <th>max</th>\n",
       "      <td>2.00000</td>\n",
       "    </tr>\n",
       "  </tbody>\n",
       "</table>\n",
       "</div>"
      ],
      "text/plain": [
       "         Targets\n",
       "count  400.00000\n",
       "mean     1.51250\n",
       "std      0.50047\n",
       "min      1.00000\n",
       "25%      1.00000\n",
       "50%      2.00000\n",
       "75%      2.00000\n",
       "max      2.00000"
      ]
     },
     "execution_count": 39,
     "metadata": {},
     "output_type": "execute_result"
    }
   ],
   "source": [
    "y.describe()"
   ]
  },
  {
   "cell_type": "code",
   "execution_count": 41,
   "id": "cb14102d",
   "metadata": {},
   "outputs": [],
   "source": [
    "colormap = np.array(['','red','black'])"
   ]
  },
  {
   "cell_type": "code",
   "execution_count": 42,
   "id": "343d6d50",
   "metadata": {},
   "outputs": [
    {
     "data": {
      "text/plain": [
       "<matplotlib.collections.PathCollection at 0x7fde730b06d0>"
      ]
     },
     "execution_count": 42,
     "metadata": {},
     "output_type": "execute_result"
    },
    {
     "data": {
      "image/png": "[encoded data removed]",
      "text/plain": [
       "<Figure size 432x288 with 1 Axes>"
      ]
     },
     "metadata": {
      "needs_background": "light"
     },
     "output_type": "display_data"
    }
   ],
   "source": [
    "plt.scatter(x.purchase_sum, x.experience, c=colormap[y.Targets])"
   ]
  },
  {
   "cell_type": "code",
   "execution_count": 43,
   "id": "b35a62aa",
   "metadata": {},
   "outputs": [],
   "source": [
    "model = KMeans(n_clusters=2)"
   ]
  },
  {
   "cell_type": "code",
   "execution_count": 44,
   "id": "ea8195cb",
   "metadata": {},
   "outputs": [
    {
     "data": {
      "text/plain": [
       "KMeans(n_clusters=2)"
      ]
     },
     "execution_count": 44,
     "metadata": {},
     "output_type": "execute_result"
    }
   ],
   "source": [
    "model.fit(x)"
   ]
  },
  {
   "cell_type": "code",
   "execution_count": 45,
   "id": "f1d7c4e7",
   "metadata": {},
   "outputs": [
    {
     "data": {
      "text/plain": [
       "array([0, 0, 0, 0, 1, 1, 1, 1, 1, 0, 1, 0, 0, 1, 0, 0, 0, 1, 1, 1, 0, 1,\n",
       "       0, 1, 1, 1, 0, 1, 0, 0, 1, 0, 0, 1, 0, 1, 1, 0, 1, 0, 0, 0, 0, 1,\n",
       "       0, 1, 0, 1, 1, 0, 1, 1, 0, 1, 0, 1, 1, 0, 0, 1, 1, 1, 1, 0, 0, 1,\n",
       "       1, 0, 0, 1, 1, 0, 1, 1, 1, 1, 0, 0, 1, 1, 0, 1, 1, 1, 0, 0, 0, 1,\n",
       "       1, 0, 0, 1, 1, 0, 1, 1, 1, 0, 0, 0, 0, 0, 1, 0, 0, 1, 1, 1, 0, 1,\n",
       "       0, 0, 0, 1, 1, 0, 0, 1, 0, 0, 0, 0, 0, 1, 1, 1, 0, 0, 1, 0, 0, 1,\n",
       "       1, 1, 1, 0, 1, 1, 1, 0, 1, 0, 0, 1, 1, 0, 0, 0, 1, 0, 1, 0, 0, 0,\n",
       "       0, 1, 1, 1, 1, 0, 1, 0, 0, 1, 0, 1, 1, 0, 1, 1, 1, 0, 0, 0, 0, 0,\n",
       "       1, 1, 0, 1, 0, 1, 0, 1, 1, 1, 0, 1, 0, 0, 0, 0, 1, 1, 1, 1, 0, 1,\n",
       "       0, 0, 1, 1, 0, 0, 0, 1, 1, 1, 0, 1, 1, 1, 0, 1, 0, 0, 1, 0, 0, 1,\n",
       "       1, 1, 1, 1, 0, 1, 0, 1, 0, 1, 1, 1, 0, 0, 0, 0, 0, 1, 0, 0, 1, 0,\n",
       "       0, 1, 0, 1, 1, 0, 1, 0, 1, 0, 1, 1, 1, 0, 1, 0, 0, 1, 1, 0, 1, 0,\n",
       "       0, 1, 0, 0, 0, 0, 1, 0, 0, 0, 0, 1, 0, 1, 0, 0, 0, 1, 1, 0, 1, 0,\n",
       "       0, 1, 0, 1, 0, 1, 1, 0, 1, 0, 1, 1, 0, 1, 0, 1, 1, 0, 0, 1, 0, 0,\n",
       "       1, 1, 0, 1, 0, 1, 1, 1, 1, 0, 0, 0, 0, 0, 0, 1, 1, 0, 1, 1, 0, 1,\n",
       "       1, 0, 0, 1, 1, 0, 1, 0, 0, 0, 0, 0, 0, 0, 1, 1, 0, 0, 1, 0, 0, 0,\n",
       "       0, 1, 0, 0, 0, 0, 1, 0, 0, 1, 1, 0, 0, 0, 1, 1, 0, 1, 0, 1, 0, 0,\n",
       "       1, 0, 1, 1, 0, 0, 1, 1, 0, 1, 0, 0, 0, 0, 1, 1, 1, 1, 1, 1, 0, 1,\n",
       "       1, 1, 1, 1], dtype=int32)"
      ]
     },
     "execution_count": 45,
     "metadata": {},
     "output_type": "execute_result"
    }
   ],
   "source": [
    "model.labels_"
   ]
  },
  {
   "cell_type": "code",
   "execution_count": 46,
   "id": "4a8ef881",
   "metadata": {},
   "outputs": [
    {
     "data": {
      "text/plain": [
       "<matplotlib.collections.PathCollection at 0x7fde7316f190>"
      ]
     },
     "execution_count": 46,
     "metadata": {},
     "output_type": "execute_result"
    },
    {
     "data": {
      "image/png": "[encoded data removed]",
      "text/plain": [
       "<Figure size 432x288 with 1 Axes>"
      ]
     },
     "metadata": {
      "needs_background": "light"
     },
     "output_type": "display_data"
    }
   ],
   "source": [
    "colormap = np.array(['red','black'])\n",
    "plt.scatter(x.purchase_sum, x.experience, c=colormap[model.labels_])"
   ]
  },
  {
   "cell_type": "code",
   "execution_count": 47,
   "id": "7e98b169",
   "metadata": {},
   "outputs": [
    {
     "data": {
      "text/plain": [
       "0    In hac habitasse platea dictumst. Etiam faucib...\n",
       "1    Praesent blandit. Nam nulla. Integer pede just...\n",
       "2    Praesent id massa id nisl venenatis lacinia. A...\n",
       "3    In hac habitasse platea dictumst. Morbi vestib...\n",
       "4    Pellentesque at nulla. Suspendisse potenti. Cr...\n",
       "Name: remarks, dtype: object"
      ]
     },
     "execution_count": 47,
     "metadata": {},
     "output_type": "execute_result"
    }
   ],
   "source": [
    "data_to_access.remarks[0:5]"
   ]
  },
  {
   "cell_type": "code",
   "execution_count": 48,
   "id": "3d4b17ab",
   "metadata": {},
   "outputs": [],
   "source": [
    "remarks = [\n",
    "    'This is the best bank on the planet',\n",
    "    'Lots of changes to their product. It is terrible.'\n",
    "    'New app takes some time to get use to. It is good once you learn it'\n",
    "]"
   ]
  },
  {
   "cell_type": "code",
   "execution_count": 50,
   "id": "138bcaf1",
   "metadata": {},
   "outputs": [
    {
     "name": "stderr",
     "output_type": "stream",
     "text": [
      "[nltk_data] Downloading package punkt to\n",
      "[nltk_data]     /Users/ashwani.panwar/nltk_data...\n",
      "[nltk_data]   Unzipping tokenizers/punkt.zip.\n"
     ]
    },
    {
     "data": {
      "text/plain": [
       "True"
      ]
     },
     "execution_count": 50,
     "metadata": {},
     "output_type": "execute_result"
    }
   ],
   "source": [
    "from sklearn.feature_extraction.text import CountVectorizer\n",
    "import nltk \n",
    "nltk.download('punkt')"
   ]
  },
  {
   "cell_type": "code",
   "execution_count": 51,
   "id": "cc4fb538",
   "metadata": {},
   "outputs": [],
   "source": [
    "remarks_token_counts = CountVectorizer(min_df=1, tokenizer=nltk.word_tokenize)"
   ]
  },
  {
   "cell_type": "code",
   "execution_count": 52,
   "id": "db6cadbc",
   "metadata": {},
   "outputs": [],
   "source": [
    "remarks_as_sparse_vectors = remarks_token_counts.fit_transform(remarks)"
   ]
  },
  {
   "cell_type": "code",
   "execution_count": 53,
   "id": "b478d3b5",
   "metadata": {},
   "outputs": [
    {
     "data": {
      "text/plain": [
       "{'this': 21,\n",
       " 'is': 7,\n",
       " 'the': 19,\n",
       " 'best': 3,\n",
       " 'bank': 2,\n",
       " 'on': 12,\n",
       " 'planet': 14,\n",
       " 'lots': 10,\n",
       " 'of': 11,\n",
       " 'changes': 4,\n",
       " 'to': 23,\n",
       " 'their': 20,\n",
       " 'product': 15,\n",
       " '.': 0,\n",
       " 'it': 8,\n",
       " 'terrible.new': 18,\n",
       " 'app': 1,\n",
       " 'takes': 17,\n",
       " 'some': 16,\n",
       " 'time': 22,\n",
       " 'get': 5,\n",
       " 'use': 24,\n",
       " 'good': 6,\n",
       " 'once': 13,\n",
       " 'you': 25,\n",
       " 'learn': 9}"
      ]
     },
     "execution_count": 53,
     "metadata": {},
     "output_type": "execute_result"
    }
   ],
   "source": [
    "remarks_token_counts.vocabulary_"
   ]
  },
  {
   "cell_type": "code",
   "execution_count": 54,
   "id": "0dadbf15",
   "metadata": {},
   "outputs": [],
   "source": [
    "from vaderSentiment.vaderSentiment import SentimentIntensityAnalyzer"
   ]
  },
  {
   "cell_type": "code",
   "execution_count": 55,
   "id": "e65d0624",
   "metadata": {},
   "outputs": [],
   "source": [
    "analyser = SentimentIntensityAnalyzer()"
   ]
  },
  {
   "cell_type": "code",
   "execution_count": 56,
   "id": "f085806e",
   "metadata": {},
   "outputs": [],
   "source": [
    "def sentiment_analyser_Scores(sentance): \n",
    "    score = analyser.polarity_scores(sentance)\n",
    "    print(\"{}{}\".format(sentance, str(score)))"
   ]
  },
  {
   "cell_type": "code",
   "execution_count": 57,
   "id": "f2ee57a1",
   "metadata": {},
   "outputs": [
    {
     "name": "stdout",
     "output_type": "stream",
     "text": [
      "This is the best bank on the planet{'neg': 0.0, 'neu': 0.625, 'pos': 0.375, 'compound': 0.6369}\n"
     ]
    }
   ],
   "source": [
    "sentiment_analyser_Scores(\"This is the best bank on the planet\")"
   ]
  },
  {
   "cell_type": "code",
   "execution_count": null,
   "id": "ec4d6176",
   "metadata": {},
   "outputs": [],
   "source": []
  }
 ],
 "metadata": {
  "kernelspec": {
   "display_name": "Python 3",
   "language": "python",
   "name": "python3"
  },
  "language_info": {
   "codemirror_mode": {
    "name": "ipython",
    "version": 3
   },
   "file_extension": ".py",
   "mimetype": "text/x-python",
   "name": "python",
   "nbconvert_exporter": "python",
   "pygments_lexer": "ipython3",
   "version": "3.8.8"
  }
 },
 "nbformat": 4,
 "nbformat_minor": 5
}
